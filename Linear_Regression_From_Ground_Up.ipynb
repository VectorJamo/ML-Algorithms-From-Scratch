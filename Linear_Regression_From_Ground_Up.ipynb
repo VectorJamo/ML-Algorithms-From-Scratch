{
  "nbformat": 4,
  "nbformat_minor": 0,
  "metadata": {
    "colab": {
      "provenance": [],
      "authorship_tag": "ABX9TyPhzor4U/jN7jfaWBON1IKK",
      "include_colab_link": true
    },
    "kernelspec": {
      "name": "python3",
      "display_name": "Python 3"
    },
    "language_info": {
      "name": "python"
    }
  },
  "cells": [
    {
      "cell_type": "markdown",
      "metadata": {
        "id": "view-in-github",
        "colab_type": "text"
      },
      "source": [
        "<a href=\"https://colab.research.google.com/github/VectorJamo/ML-Algorithms-From-Scratch/blob/main/Linear_Regression_From_Ground_Up.ipynb\" target=\"_parent\"><img src=\"https://colab.research.google.com/assets/colab-badge.svg\" alt=\"Open In Colab\"/></a>"
      ]
    },
    {
      "cell_type": "code",
      "execution_count": 171,
      "metadata": {
        "id": "ChsBxHA8YsD7"
      },
      "outputs": [],
      "source": [
        "# Implementing linear regression from scratch.\n",
        "import numpy as np\n",
        "import matplotlib.pyplot as plt\n",
        "%matplotlib inline"
      ]
    },
    {
      "cell_type": "code",
      "source": [
        "# A linear regression model finds the line of best fit in n-dimensional space\n",
        "# The equation of this line in 2D is y = wx + b\n",
        "# In n-dimensional space, the equation is, y = w1(x1) + w2(x2) + w3(x3) + .... + w(n-1)x(n-1) + b\n",
        "\n",
        "def get_prediction(feature_vector, weight_vector, bias):\n",
        "  prediction = np.dot(feature_vector, weight_vector) + bias\n",
        "  return prediction"
      ],
      "metadata": {
        "id": "p08XXFqLatDp"
      },
      "execution_count": 172,
      "outputs": []
    },
    {
      "cell_type": "code",
      "source": [
        "# It is our goal now to find the appropriate values of the weights and bias such that the cost of each training is minimized.\n",
        "# The cost function is the sum of the mean squared error(MSE) over the training data.\n",
        "# C = sum over the entire dataset(y(i) - ((w)x(i) + b))^2\n",
        "# Here, i = iterator going from 1 to N where N is the no. of data examples in the dataset. Each data example is a pair of (feature vector, output label)\n",
        "# x(i) is the feature vector, w is the weight vector, b is the bias and y(i) is the actual label for that training data.\n",
        "# Hence, this equation can be reduced as the square of the difference of the actual label and the predicted label by the model.\n",
        "# We wish to decrease the this value of the cost function overtime during training. Lesser the difference, we can see that better is our model is predicting\n",
        "# values that are closer to the actual values which is what we want.\n",
        "\n",
        "def get_average_training_cost(feature_vectors, output_labels, weight_vector, bias):\n",
        "  training_size = len(feature_vectors)\n",
        "  training_cost = 0\n",
        "  for i in range(0, training_size):\n",
        "    training_cost += (output_labels[i] - (np.dot(feature_vectors[i], weight_vector) + bias))**2\n",
        "\n",
        "  return training_cost/training_size"
      ],
      "metadata": {
        "id": "ZXg1FheBx0Pq"
      },
      "execution_count": 173,
      "outputs": []
    },
    {
      "cell_type": "code",
      "source": [
        "# Implement Gradient Descent\n",
        "# Gradient Descent is a way of nudging the weights and biases in such a way that the cost of the the training decreases.\n",
        "# It consists of finding the gradient vector that points to the direction in which the function is decreasing and then taking steps in that direction.\n",
        "# When this process is done for many many times, we will eventually reach a local minimum where the cost function is minimized.\n",
        "\n",
        "# The equation for getting the derivative of the cost function with respect to the weight dC/dw is just the partial derivative of the cost function with\n",
        "# respect to the weight vector. Computing the partial derivative is trivial and can be done with a pen and paper.\n",
        "def get_weight_gradient(feature_vectors, output_labels, weight_vector, bias): # Returns dC/dw\n",
        "  weight_gradient = np.zeros(len(weight_vector))\n",
        "  training_size = len(feature_vectors)\n",
        "  for i in range(0, training_size):\n",
        "    weight_gradient += (-2 * (output_labels[i] - (np.dot(feature_vectors[i], weight_vector) + bias))) * feature_vectors[i]\n",
        "\n",
        "  return weight_gradient/training_size\n",
        "\n",
        "def get_bias_gradient(feature_vectors, output_labels, weight_vector, bias): # Returns dC/db\n",
        "  bias_gradient = 0\n",
        "  training_size = len(feature_vectors)\n",
        "  for i in range(0, training_size):\n",
        "    bias_gradient += ((-2 * (output_labels[i] - (np.dot(feature_vectors[i], weight_vector) + bias))))\n",
        "\n",
        "  return bias_gradient/training_size\n",
        "\n",
        "def perform_gradient_descent(feature_vectors, output_labels, weight_vector, bias):\n",
        "  dw = get_weight_gradient(feature_vectors, output_labels, weight_vector, bias)\n",
        "  db = get_bias_gradient(feature_vectors, output_labels, weight_vector, bias)\n",
        "  learning_rate = 0.05\n",
        "\n",
        "  weight_vector -= learning_rate * dw\n",
        "  bias -= learning_rate * db"
      ],
      "metadata": {
        "id": "5ybEQ6hk26Cg"
      },
      "execution_count": 174,
      "outputs": []
    },
    {
      "cell_type": "code",
      "source": [
        "class LRParameters():\n",
        "  def __init__(self):\n",
        "    self.weights = 0\n",
        "    self.bias = 0\n",
        "\n",
        "def train(feature_vectors, output_labels, epochs):\n",
        "  model_parameters = LRParameters()\n",
        "\n",
        "  # Initial model parameters\n",
        "  np.random.seed(40)\n",
        "  model_parameters.weights = np.random.rand(len(feature_vectors[0]))\n",
        "  model_parameters.bias = np.random.rand(1)\n",
        "  print(f'Initial weights: {model_parameters.weights}')\n",
        "  print(f'Initial bias: {model_parameters.bias}')\n",
        "\n",
        "  for i in range(0, epochs):\n",
        "    # Calculate the training cost\n",
        "    training_cost = get_average_training_cost(feature_vectors, output_labels, model_parameters.weights, model_parameters.bias)\n",
        "\n",
        "    # Perform gradient descent\n",
        "    perform_gradient_descent(feature_vectors, output_labels, model_parameters.weights, model_parameters.bias)\n",
        "\n",
        "    if i%10 == 0:\n",
        "      print(f'Training round: {i}. Training cost: {training_cost}')\n",
        "      print(f'Weights: {model_parameters.weights}. Bias: {model_parameters.bias}')\n",
        "      print('-------------------------------------------------------------------')\n",
        "\n",
        "  return model_parameters\n"
      ],
      "metadata": {
        "id": "SiRE_nMJ8R_0"
      },
      "execution_count": 175,
      "outputs": []
    },
    {
      "cell_type": "code",
      "source": [
        "# Dataset\n",
        "feature_vectors = [[1], [2], [3], [4], [5]]\n",
        "output_labels = [[2], [4], [6], [8], [10]]\n",
        "epochs = 100"
      ],
      "metadata": {
        "id": "SfZ-T51k5dOx"
      },
      "execution_count": 176,
      "outputs": []
    },
    {
      "cell_type": "code",
      "source": [
        "model = train(feature_vectors, output_labels, epochs)\n",
        "print(f'New weights: {model.weights}')\n",
        "print(f'New bias: {model.bias}')"
      ],
      "metadata": {
        "colab": {
          "base_uri": "https://localhost:8080/"
        },
        "id": "8tjpCOu795uQ",
        "outputId": "fe981bd9-3cc8-4eb0-cea8-cd503e1b2c4b"
      },
      "execution_count": 177,
      "outputs": [
        {
          "output_type": "stream",
          "name": "stdout",
          "text": [
            "Initial weights: [0.40768703]\n",
            "Initial bias: [0.05536604]\n",
            "Training round: 0. Training cost: [27.36417162]\n",
            "Weights: [2.14262149]. Bias: [0.52752333]\n",
            "-------------------------------------------------------------------\n",
            "Training round: 10. Training cost: [0.02751073]\n",
            "Weights: [1.8941369]. Bias: [0.38219942]\n",
            "-------------------------------------------------------------------\n",
            "Training round: 20. Training cost: [0.01956201]\n",
            "Weights: [1.91073106]. Bias: [0.32228919]\n",
            "-------------------------------------------------------------------\n",
            "Training round: 30. Training cost: [0.01390993]\n",
            "Weights: [1.92472408]. Bias: [0.27176996]\n",
            "-------------------------------------------------------------------\n",
            "Training round: 40. Training cost: [0.00989091]\n",
            "Weights: [1.93652367]. Bias: [0.22916968]\n",
            "-------------------------------------------------------------------\n",
            "Training round: 50. Training cost: [0.00703312]\n",
            "Weights: [1.94647367]. Bias: [0.19324705]\n",
            "-------------------------------------------------------------------\n",
            "Training round: 60. Training cost: [0.00500103]\n",
            "Weights: [1.95486399]. Bias: [0.16295533]\n",
            "-------------------------------------------------------------------\n",
            "Training round: 70. Training cost: [0.00355607]\n",
            "Weights: [1.96193911]. Bias: [0.13741188]\n",
            "-------------------------------------------------------------------\n",
            "Training round: 80. Training cost: [0.00252861]\n",
            "Weights: [1.9679052]. Bias: [0.1158724]\n",
            "-------------------------------------------------------------------\n",
            "Training round: 90. Training cost: [0.00179802]\n",
            "Weights: [1.9729361]. Bias: [0.09770926]\n",
            "-------------------------------------------------------------------\n",
            "New weights: [1.97678597]\n",
            "New bias: [0.08381]\n"
          ]
        }
      ]
    },
    {
      "cell_type": "code",
      "source": [
        "# Visualize\n",
        "plt.axis([0, 12, 0, 12])\n",
        "plt.xlabel('Features')\n",
        "plt.ylabel('Labels')\n",
        "plt.scatter(feature_vectors, output_labels)"
      ],
      "metadata": {
        "colab": {
          "base_uri": "https://localhost:8080/",
          "height": 473
        },
        "id": "vFORbYuO--BS",
        "outputId": "881a4d9b-e415-4386-f145-f39361af06e4"
      },
      "execution_count": 179,
      "outputs": [
        {
          "output_type": "execute_result",
          "data": {
            "text/plain": [
              "<matplotlib.collections.PathCollection at 0x7c142339a1a0>"
            ]
          },
          "metadata": {},
          "execution_count": 179
        },
        {
          "output_type": "display_data",
          "data": {
            "text/plain": [
              "<Figure size 640x480 with 1 Axes>"
            ],
            "image/png": "[encoded data removed]"
          },
          "metadata": {}
        }
      ]
    }
  ]
}