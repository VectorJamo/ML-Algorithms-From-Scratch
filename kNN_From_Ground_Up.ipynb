{
  "nbformat": 4,
  "nbformat_minor": 0,
  "metadata": {
    "colab": {
      "provenance": [],
      "authorship_tag": "ABX9TyMwAQrBO52mR4Lh7doSWPOM",
      "include_colab_link": true
    },
    "kernelspec": {
      "name": "python3",
      "display_name": "Python 3"
    },
    "language_info": {
      "name": "python"
    }
  },
  "cells": [
    {
      "cell_type": "markdown",
      "metadata": {
        "id": "view-in-github",
        "colab_type": "text"
      },
      "source": [
        "<a href=\"https://colab.research.google.com/github/VectorJamo/ML-Algorithms-From-Scratch/blob/main/kNN_From_Ground_Up.ipynb\" target=\"_parent\"><img src=\"https://colab.research.google.com/assets/colab-badge.svg\" alt=\"Open In Colab\"/></a>"
      ]
    },
    {
      "cell_type": "code",
      "execution_count": 8,
      "metadata": {
        "id": "gIJ8QFK_nc_7"
      },
      "outputs": [],
      "source": [
        "# Implementing k-Nearest-Neighbours from the ground up\n",
        "import numpy as np\n",
        "import matplotlib.pyplot as plt\n",
        "%matplotlib inline\n",
        "from collections import Counter"
      ]
    },
    {
      "cell_type": "code",
      "source": [
        "# kNN can be used for both classification and regression problems. We will implement both.\n",
        "# In both the cases, the concept is same, you find 'k' nearest neighbours to the feature vector that we want to predict using eucledian\n",
        "# distance and get the average value of the labels of those 'k' neighbours.\n",
        "\n",
        "# I figured out this algorithm in my head during an IT seminar class so dont expect it to be perfect.\n",
        "# Create an array of k elements, insert the first k element's distance to dataset into it\n",
        "# Sort it in descending order\n",
        "# Then, pick another data example, compute the distance of the example with the feature vector that we want to predict.\n",
        "# If this distance is less than the first distance value in the array, replace that position in the array with this.\n",
        "# Resort the array in descending order.\n",
        "# Repeat until you have gone through the entire dataset.\n",
        "\n",
        "class kNN_Model():\n",
        "  def __init__(self, k):\n",
        "    self.k = k\n",
        "    self.neighbours = []\n",
        "    self.show_neighbours = False\n",
        "\n",
        "  def __repr__(self):\n",
        "    return self.neighbours\n",
        "\n",
        "  def find_nearest_neighbours(self, feature_and_label_vectors, target_feature):\n",
        "    for i in range(0, self.k):\n",
        "      self.neighbours.append(feature_and_label_vectors[i])\n",
        "\n",
        "    # Sort the list in descending order by the distance between the feature vectors and the target feature\n",
        "\n",
        "    self.neighbours.sort(key=lambda x: np.linalg.norm(np.array(x[:-1]) - np.array(target_feature)), reverse=True)\n",
        "\n",
        "    dataset_size = len(feature_and_label_vectors)\n",
        "    for i in range(self.k-1, dataset_size):\n",
        "      dist1 = np.linalg.norm(np.array(feature_and_label_vectors[i][:-1]) - np.array(target_feature))\n",
        "      dist2 = np.linalg.norm(np.array(self.neighbours[0][:-1]) - np.array(target_feature))\n",
        "\n",
        "      if dist1 < dist2:\n",
        "        self.neighbours[0] = feature_and_label_vectors[i]\n",
        "        # Re-sort\n",
        "        self.neighbours.sort(key=lambda x: np.linalg.norm(np.array(x[:-1]) - np.array(target_feature)), reverse=True)\n",
        "\n",
        "    if self.show_neighbours:\n",
        "      print(f'{self.k} nearest neighbours are: ')\n",
        "      print(self.neighbours)\n",
        "\n",
        "  def predict_regression(self, feature_and_label_vectors, target_feature):\n",
        "    self.find_nearest_neighbours(feature_and_label_vectors, target_feature)\n",
        "\n",
        "    # Calculate the average label of those neighbours\n",
        "    average = 0\n",
        "    for i in range(0, self.k):\n",
        "      feature_and_label_vector = self.neighbours[i]\n",
        "      label = feature_and_label_vector[-1] # Get the last element (the labels)\n",
        "      average += label[0]\n",
        "\n",
        "    prediction = average / self.k\n",
        "    return prediction\n",
        "\n",
        "  def predict_class(self, feature_and_label_vectors, target_feature):\n",
        "    self.find_nearest_neighbours(feature_and_label_vectors, target_feature)\n",
        "\n",
        "    # Get the most prevalent label of those neighbours\n",
        "    labels = [self.neighbours[i][-1][0] for i in range(0, self.k)]\n",
        "\n",
        "    counter = Counter(labels)\n",
        "    most_common_label, freq = counter.most_common(1)[0]\n",
        "\n",
        "    return most_common_label\n",
        "\n",
        ""
      ],
      "metadata": {
        "id": "ossF7kITnn-k"
      },
      "execution_count": 42,
      "outputs": []
    },
    {
      "cell_type": "code",
      "source": [
        "dataset = [[[1], [1]], [[2], [0]], [[3], [1]], [[4], [0]], [[5], [1]],  [[6], [0]], [[7], [1]], [[8], [0]]]\n",
        "target_feature = [9]"
      ],
      "metadata": {
        "id": "F71lZzkC49BI"
      },
      "execution_count": 43,
      "outputs": []
    },
    {
      "cell_type": "code",
      "source": [
        "dataset"
      ],
      "metadata": {
        "colab": {
          "base_uri": "https://localhost:8080/"
        },
        "id": "dFo3NZ86_sUY",
        "outputId": "6808551c-4949-4733-c900-7e0de5d00cd1"
      },
      "execution_count": 44,
      "outputs": [
        {
          "output_type": "execute_result",
          "data": {
            "text/plain": [
              "[[[1], [1]],\n",
              " [[2], [0]],\n",
              " [[3], [1]],\n",
              " [[4], [0]],\n",
              " [[5], [1]],\n",
              " [[6], [0]],\n",
              " [[7], [1]],\n",
              " [[8], [0]]]"
            ]
          },
          "metadata": {},
          "execution_count": 44
        }
      ]
    },
    {
      "cell_type": "code",
      "source": [
        "model = kNN_Model(3)\n",
        "model.show_neighbours = True"
      ],
      "metadata": {
        "id": "2ZKGnNLy--jy"
      },
      "execution_count": 45,
      "outputs": []
    },
    {
      "cell_type": "code",
      "source": [
        "model.predict_class(dataset, target_feature)"
      ],
      "metadata": {
        "colab": {
          "base_uri": "https://localhost:8080/"
        },
        "id": "mNyfR5ZYAgTK",
        "outputId": "3097d149-46e6-4934-ce00-d8218e922575"
      },
      "execution_count": 46,
      "outputs": [
        {
          "output_type": "stream",
          "name": "stdout",
          "text": [
            "3 nearest neighbours are: \n",
            "[[[6], [0]], [[7], [1]], [[8], [0]]]\n"
          ]
        },
        {
          "output_type": "execute_result",
          "data": {
            "text/plain": [
              "0"
            ]
          },
          "metadata": {},
          "execution_count": 46
        }
      ]
    }
  ]
}