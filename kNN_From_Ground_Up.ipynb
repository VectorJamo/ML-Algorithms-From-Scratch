{
  "nbformat": 4,
  "nbformat_minor": 0,
  "metadata": {
    "colab": {
      "provenance": [],
      "authorship_tag": "ABX9TyONXdqfqsBQVwUbox7H+YQZ",
      "include_colab_link": true
    },
    "kernelspec": {
      "name": "python3",
      "display_name": "Python 3"
    },
    "language_info": {
      "name": "python"
    }
  },
  "cells": [
    {
      "cell_type": "markdown",
      "metadata": {
        "id": "view-in-github",
        "colab_type": "text"
      },
      "source": [
        "<a href=\"https://colab.research.google.com/github/VectorJamo/ML-Algorithms-From-Scratch/blob/main/kNN_From_Ground_Up.ipynb\" target=\"_parent\"><img src=\"https://colab.research.google.com/assets/colab-badge.svg\" alt=\"Open In Colab\"/></a>"
      ]
    },
    {
      "cell_type": "code",
      "execution_count": null,
      "metadata": {
        "id": "gIJ8QFK_nc_7"
      },
      "outputs": [],
      "source": [
        "# Implementing k-Nearest-Neighbours from the ground up\n",
        "import numpy as np\n",
        "import matplotlib.pyplot as plt\n",
        "%matplotlib inline"
      ]
    },
    {
      "cell_type": "code",
      "source": [
        "# kNN can be used for both classification and regression problems. We will implement both.\n",
        "# In both the cases, the concept is same, you find 'k' similar nearest neighbours using eucledian\n",
        "# distance and get the average value of the labels of those 'k' similar features.\n",
        "\n",
        "# I already figured out *i think* the algorithm in my head during the IT seminar class\n",
        "# now just need to implement it.\n",
        "# Create an array of k elements, insert the first k element's distance to dataset into it\n",
        "# Sort it\n",
        "# Then, pick another data example, compute the distance\n",
        "class kNN_Model():\n",
        "  def __init__(self, k):\n",
        "    self.k = k\n",
        "    self.neighbours = []\n",
        "\n",
        "  def predict():\n",
        "    pass"
      ],
      "metadata": {
        "id": "ossF7kITnn-k"
      },
      "execution_count": 2,
      "outputs": []
    }
  ]
}