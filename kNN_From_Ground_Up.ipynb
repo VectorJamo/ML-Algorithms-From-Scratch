{
  "nbformat": 4,
  "nbformat_minor": 0,
  "metadata": {
    "colab": {
      "provenance": [],
      "authorship_tag": "ABX9TyOknlZGU9kS/p7KNNwNWpKs",
      "include_colab_link": true
    },
    "kernelspec": {
      "name": "python3",
      "display_name": "Python 3"
    },
    "language_info": {
      "name": "python"
    }
  },
  "cells": [
    {
      "cell_type": "markdown",
      "metadata": {
        "id": "view-in-github",
        "colab_type": "text"
      },
      "source": [
        "<a href=\"https://colab.research.google.com/github/VectorJamo/ML-Algorithms-From-Scratch/blob/main/kNN_From_Ground_Up.ipynb\" target=\"_parent\"><img src=\"https://colab.research.google.com/assets/colab-badge.svg\" alt=\"Open In Colab\"/></a>"
      ]
    },
    {
      "cell_type": "code",
      "execution_count": 14,
      "metadata": {
        "id": "gIJ8QFK_nc_7"
      },
      "outputs": [],
      "source": [
        "# Implementing k-Nearest-Neighbours from the ground up\n",
        "import numpy as np\n",
        "import matplotlib.pyplot as plt\n",
        "%matplotlib inline"
      ]
    },
    {
      "cell_type": "code",
      "source": [
        "# kNN can be used for both classification and regression problems. We will implement both.\n",
        "# In both the cases, the concept is same, you find 'k' nearest neighbours to the feature vector that we want to predict using eucledian\n",
        "# distance and get the average value of the labels of those 'k' neighbours.\n",
        "\n",
        "# I figured out this algorithm in my head during an IT seminar class so dont expect it to be perfect.\n",
        "# now just need to implement it.\n",
        "# Create an array of k elements, insert the first k element's distance to dataset into it\n",
        "# Sort it in descending order\n",
        "# Then, pick another data example, compute the distance of the example with the feature vector that we want to predict.\n",
        "# If this distance is less than the first distance value in the array, replace that position in the array with this.\n",
        "# Resort the array in descending order.\n",
        "# Repeat until you have gone through the entire dataset.\n",
        "\n",
        "class kNN_Model():\n",
        "  def __init__(self, k):\n",
        "    self.k = k\n",
        "    self.neighbours = []\n",
        "    self.show_neighbours = False\n",
        "\n",
        "  def __repr__(self):\n",
        "    return self.neighbours\n",
        "\n",
        "  def predict_regression(self, feature_and_label_vectors, target_feature):\n",
        "    # TODO: append feature and label vectors together\n",
        "\n",
        "    for i in range(0, self.k):\n",
        "      self.neighbours.append(feature_and_label_vectors[i])\n",
        "\n",
        "    # Sort the list in descending order by the distance between the feature vectors and the target feature\n",
        "\n",
        "    self.neighbours.sort(key=lambda x: np.linalg.norm(np.array(x[:-1]) - np.array(target_feature)), reverse=True)\n",
        "\n",
        "    dataset_size = len(feature_and_label_vectors)\n",
        "    for i in range(self.k-1, dataset_size):\n",
        "      dist1 = np.linalg.norm(np.array(feature_and_label_vectors[i][:-1]) - np.array(target_feature))\n",
        "      dist2 = np.linalg.norm(np.array(self.neighbours[0][:-1]) - np.array(target_feature))\n",
        "\n",
        "      if dist1 < dist2:\n",
        "        self.neighbours[0] = feature_and_label_vectors[i]\n",
        "        # Re-sort\n",
        "        self.neighbours.sort(key=lambda x: np.linalg.norm(np.array(x[:-1]) - np.array(target_feature)), reverse=True)\n",
        "\n",
        "    if self.show_neighbours:\n",
        "      print(f'{self.k} nearest neighbours are: ')\n",
        "      print(self.neighbours)\n",
        "\n",
        "    # Calculate the average of those labels\n",
        "    average = 0\n",
        "    for i in range(0, self.k):\n",
        "      feature_and_label_vector = self.neighbours[i]\n",
        "      label = feature_and_label_vector[-1] # Get the last element (the labels)\n",
        "      average += label[0]\n",
        "\n",
        "    prediction = average / self.k\n",
        "    return prediction"
      ],
      "metadata": {
        "id": "ossF7kITnn-k"
      },
      "execution_count": 64,
      "outputs": []
    },
    {
      "cell_type": "code",
      "source": [
        "dataset = [[[1], [2]], [[2], [3]], [[3], [4]], [[4], [5]], [[5], [6]],  [[6], [7]], [[7], [8]], [[8], [9]]]\n",
        "target_feature = [6.75]"
      ],
      "metadata": {
        "id": "F71lZzkC49BI"
      },
      "execution_count": 75,
      "outputs": []
    },
    {
      "cell_type": "code",
      "source": [
        "dataset"
      ],
      "metadata": {
        "colab": {
          "base_uri": "https://localhost:8080/"
        },
        "id": "dFo3NZ86_sUY",
        "outputId": "8f9f63de-903e-4012-bde0-f5cbacc0b1bf"
      },
      "execution_count": 76,
      "outputs": [
        {
          "output_type": "execute_result",
          "data": {
            "text/plain": [
              "[[[1], [2]],\n",
              " [[2], [3]],\n",
              " [[3], [4]],\n",
              " [[4], [5]],\n",
              " [[5], [6]],\n",
              " [[6], [7]],\n",
              " [[7], [8]],\n",
              " [[8], [9]]]"
            ]
          },
          "metadata": {},
          "execution_count": 76
        }
      ]
    },
    {
      "cell_type": "code",
      "source": [
        "model = kNN_Model(2)\n",
        "model.show_neighbours = True"
      ],
      "metadata": {
        "id": "2ZKGnNLy--jy"
      },
      "execution_count": 77,
      "outputs": []
    },
    {
      "cell_type": "code",
      "source": [
        "model.predict_regression(dataset, target_feature)"
      ],
      "metadata": {
        "colab": {
          "base_uri": "https://localhost:8080/"
        },
        "id": "mNyfR5ZYAgTK",
        "outputId": "d08709c4-a0b5-4c10-f0f7-55ff8701c4bd"
      },
      "execution_count": 78,
      "outputs": [
        {
          "output_type": "stream",
          "name": "stdout",
          "text": [
            "2 nearest neighbours are: \n",
            "[[[6], [7]], [[7], [8]]]\n"
          ]
        },
        {
          "output_type": "execute_result",
          "data": {
            "text/plain": [
              "7.5"
            ]
          },
          "metadata": {},
          "execution_count": 78
        }
      ]
    }
  ]
}