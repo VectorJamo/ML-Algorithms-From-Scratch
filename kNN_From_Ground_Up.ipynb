{
  "nbformat": 4,
  "nbformat_minor": 0,
  "metadata": {
    "colab": {
      "provenance": [],
      "authorship_tag": "ABX9TyNjeYCL04jMKS7xQ9sW8rLB",
      "include_colab_link": true
    },
    "kernelspec": {
      "name": "python3",
      "display_name": "Python 3"
    },
    "language_info": {
      "name": "python"
    }
  },
  "cells": [
    {
      "cell_type": "markdown",
      "metadata": {
        "id": "view-in-github",
        "colab_type": "text"
      },
      "source": [
        "<a href=\"https://colab.research.google.com/github/VectorJamo/ML-Algorithms-From-Scratch/blob/main/kNN_From_Ground_Up.ipynb\" target=\"_parent\"><img src=\"https://colab.research.google.com/assets/colab-badge.svg\" alt=\"Open In Colab\"/></a>"
      ]
    },
    {
      "cell_type": "code",
      "execution_count": null,
      "metadata": {
        "id": "gIJ8QFK_nc_7"
      },
      "outputs": [],
      "source": [
        "# Implementing k-Nearest-Neighbours from the ground up\n",
        "import numpy as np\n",
        "import matplotlib.pyplot as plt\n",
        "%matplotlib inline"
      ]
    },
    {
      "cell_type": "code",
      "source": [
        "# kNN can be used for both classification and regression problems. We will implement both.\n",
        "# In both the cases, the concept is same, you find 'k' nearest neighbours to the feature vector that we want to predict using eucledian\n",
        "# distance and get the average value of the labels of those 'k' neighbours.\n",
        "\n",
        "# I already figured out *i think* the algorithm in my head during the IT seminar class\n",
        "# now just need to implement it.\n",
        "# Create an array of k elements, insert the first k element's distance to dataset into it\n",
        "# Sort it in descending order\n",
        "# Then, pick another data example, compute the distance of the example with the feature vector that we want to predict.\n",
        "# If this distance is less than the first distance value in the array, replace that position in the array with this.\n",
        "# Resort the array in descending order.\n",
        "# Repeat until you have gone through the entire dataset.\n",
        "\n",
        "class kNN_Model():\n",
        "  def __init__(self, k):\n",
        "    self.k = k\n",
        "    self.neighbours = []\n",
        "\n",
        "  def predict_regression(self, data_feature_vectors, data_labels, target_feature):\n",
        "    for i in range(0, self.k):\n",
        "      self.neighbours.append(data_feature_vectors[i])\n",
        "\n",
        "    # Sort the list in descending order by the distance between the feature vectors and the target feature\n",
        "    self.neighbours.sort(key=lambda x: np.linalg.norm(x - target_feature), reverse=True)\n",
        "\n",
        "    dataset_size = len(data_feature_vectors)\n",
        "    for i in range(self.k-1, dataset_size):\n",
        "      pass"
      ],
      "metadata": {
        "id": "ossF7kITnn-k"
      },
      "execution_count": 6,
      "outputs": []
    },
    {
      "cell_type": "code",
      "source": [],
      "metadata": {
        "id": "hOo1wxvXKLsa"
      },
      "execution_count": null,
      "outputs": []
    }
  ]
}